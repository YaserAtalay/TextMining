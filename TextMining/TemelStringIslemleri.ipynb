{
 "cells": [
  {
   "cell_type": "markdown",
   "id": "f4ef049d-24e8-4b39-b3ec-4a2311b9e01c",
   "metadata": {},
   "source": [
    "# Temel String İşlemleri"
   ]
  },
  {
   "cell_type": "markdown",
   "id": "c38cecc2-828f-49a6-b70a-000d16f7fae0",
   "metadata": {},
   "source": [
    "## Oluşturma Biçimlendirme"
   ]
  },
  {
   "cell_type": "code",
   "execution_count": 5,
   "id": "a3468a29-ee41-4409-b8cd-095a42c0bd54",
   "metadata": {},
   "outputs": [],
   "source": [
    "isim = \"yaser\""
   ]
  },
  {
   "cell_type": "code",
   "execution_count": 6,
   "id": "f68e662e-2c80-484c-8057-35bb0a4ae756",
   "metadata": {},
   "outputs": [
    {
     "data": {
      "text/plain": [
       "'yaseryaseryaser'"
      ]
     },
     "execution_count": 6,
     "metadata": {},
     "output_type": "execute_result"
    }
   ],
   "source": [
    "3 * isim"
   ]
  },
  {
   "cell_type": "code",
   "execution_count": 9,
   "id": "9fbb474b-6c56-474c-910e-10f4225f9178",
   "metadata": {},
   "outputs": [
    {
     "data": {
      "text/plain": [
       "'yaseratalay'"
      ]
     },
     "execution_count": 9,
     "metadata": {},
     "output_type": "execute_result"
    }
   ],
   "source": [
    "\"yaser\" + \"atalay\""
   ]
  },
  {
   "cell_type": "code",
   "execution_count": 10,
   "id": "3e370a62-ada8-4958-aa9e-79dd3d496698",
   "metadata": {},
   "outputs": [
    {
     "data": {
      "text/plain": [
       "'Yaser'"
      ]
     },
     "execution_count": 10,
     "metadata": {},
     "output_type": "execute_result"
    }
   ],
   "source": [
    "\"Y\" + isim[1:]"
   ]
  },
  {
   "cell_type": "code",
   "execution_count": 20,
   "id": "656919cd-d85e-4707-84dc-d6565a51aef8",
   "metadata": {},
   "outputs": [],
   "source": [
    "isimler = [\"ali\",\"veli\",\"ayse\",\"mehmet\",\"gizem\",\"furkan\"]"
   ]
  },
  {
   "cell_type": "code",
   "execution_count": 21,
   "id": "89925998-27a3-4d57-876a-52e4a600548c",
   "metadata": {},
   "outputs": [
    {
     "name": "stdout",
     "output_type": "stream",
     "text": [
      "İsim: ali\n",
      "İsim: veli\n",
      "İsim: ayse\n",
      "İsim: mehmet\n",
      "İsim: gizem\n",
      "İsim: furkan\n"
     ]
    }
   ],
   "source": [
    "for i in isimler:\n",
    "    print(\"İsim: \", i, sep = \"\")"
   ]
  },
  {
   "cell_type": "code",
   "execution_count": 22,
   "id": "5222cb07-0451-433d-8955-6541552c7871",
   "metadata": {},
   "outputs": [
    {
     "name": "stdout",
     "output_type": "stream",
     "text": [
      "_ali\n",
      "_veli\n",
      "_ayse\n",
      "_mehmet\n",
      "_gizem\n",
      "_furkan\n"
     ]
    }
   ],
   "source": [
    "for i in isimler:\n",
    "    print(\"_\", i, sep = \"\")"
   ]
  },
  {
   "cell_type": "code",
   "execution_count": 23,
   "id": "a154c366-98a9-4082-beee-02f5b3df0123",
   "metadata": {},
   "outputs": [
    {
     "name": "stdout",
     "output_type": "stream",
     "text": [
      "(0, 'ali') (1, 'veli') (2, 'ayse') (3, 'mehmet') (4, 'gizem') (5, 'furkan')\n"
     ]
    }
   ],
   "source": [
    "print(*enumerate(isimler))"
   ]
  },
  {
   "cell_type": "code",
   "execution_count": 24,
   "id": "7bc1e19d-6d3f-497f-b587-8c07d493f75b",
   "metadata": {},
   "outputs": [
    {
     "name": "stdout",
     "output_type": "stream",
     "text": [
      "(0, 'ali')\n",
      "(1, 'veli')\n",
      "(2, 'ayse')\n",
      "(3, 'mehmet')\n",
      "(4, 'gizem')\n",
      "(5, 'furkan')\n"
     ]
    }
   ],
   "source": [
    "for i in enumerate(isimler):\n",
    "    print(i)"
   ]
  },
  {
   "cell_type": "code",
   "execution_count": 25,
   "id": "abf205a7-e6f1-432f-bc92-e9b137d9d04a",
   "metadata": {},
   "outputs": [
    {
     "name": "stdout",
     "output_type": "stream",
     "text": [
      "(0, 'i')\n",
      "(1, 's')\n",
      "(2, 'i')\n",
      "(3, 'm')\n",
      "(4, 'l')\n",
      "(5, 'e')\n",
      "(6, 'r')\n"
     ]
    }
   ],
   "source": [
    "for i in enumerate(\"isimler\"):\n",
    "    print(i)"
   ]
  },
  {
   "cell_type": "code",
   "execution_count": 26,
   "id": "16e34a2c-e2aa-4068-9617-1f44b8c3dc5a",
   "metadata": {},
   "outputs": [
    {
     "name": "stdout",
     "output_type": "stream",
     "text": [
      "(1, 'ali')\n",
      "(2, 'veli')\n",
      "(3, 'ayse')\n",
      "(4, 'mehmet')\n",
      "(5, 'gizem')\n",
      "(6, 'furkan')\n"
     ]
    }
   ],
   "source": [
    "for i in enumerate(isimler,1):\n",
    "    print(i)"
   ]
  },
  {
   "cell_type": "markdown",
   "id": "eb44ce29-4bc2-40b9-8fb1-e39c96099b59",
   "metadata": {},
   "source": [
    "## Dizi İçi Tip İşlemleri"
   ]
  },
  {
   "cell_type": "code",
   "execution_count": 27,
   "id": "5d570334-8809-4f4f-8d9a-312f0dfc09d3",
   "metadata": {},
   "outputs": [
    {
     "data": {
      "text/plain": [
       "True"
      ]
     },
     "execution_count": 27,
     "metadata": {},
     "output_type": "execute_result"
    }
   ],
   "source": [
    "\"yaser\".isalpha()"
   ]
  },
  {
   "cell_type": "code",
   "execution_count": 28,
   "id": "64d00c10-787a-4acf-850a-e0a8b0e15ed1",
   "metadata": {},
   "outputs": [
    {
     "data": {
      "text/plain": [
       "False"
      ]
     },
     "execution_count": 28,
     "metadata": {},
     "output_type": "execute_result"
    }
   ],
   "source": [
    "\"yaser12\".isalpha()"
   ]
  },
  {
   "cell_type": "code",
   "execution_count": 30,
   "id": "56c1d426-5110-4644-bbf4-ab78570803a5",
   "metadata": {},
   "outputs": [
    {
     "data": {
      "text/plain": [
       "True"
      ]
     },
     "execution_count": 30,
     "metadata": {},
     "output_type": "execute_result"
    }
   ],
   "source": [
    "\"21312\".isnumeric()"
   ]
  },
  {
   "cell_type": "code",
   "execution_count": 31,
   "id": "0abc80bf-c2aa-464d-835e-3ef2ee6c9fe5",
   "metadata": {},
   "outputs": [
    {
     "data": {
      "text/plain": [
       "True"
      ]
     },
     "execution_count": 31,
     "metadata": {},
     "output_type": "execute_result"
    }
   ],
   "source": [
    "\"21312\".isdigit()"
   ]
  },
  {
   "cell_type": "code",
   "execution_count": 32,
   "id": "f1fe4a6e-e3d8-4247-9fc2-0399696ee533",
   "metadata": {},
   "outputs": [
    {
     "data": {
      "text/plain": [
       "True"
      ]
     },
     "execution_count": 32,
     "metadata": {},
     "output_type": "execute_result"
    }
   ],
   "source": [
    "\"yaser12\".isalnum()"
   ]
  },
  {
   "cell_type": "markdown",
   "id": "83ff9b31-aab6-4a5a-be5d-7a64cc892766",
   "metadata": {},
   "source": [
    "## Elemanlarına ve Eleman İndexlerine Erişmek"
   ]
  },
  {
   "cell_type": "code",
   "execution_count": 37,
   "id": "f7c4108f-18c9-4bf6-85ed-af00b74379a4",
   "metadata": {},
   "outputs": [],
   "source": [
    "isim = \"yaseratalay\""
   ]
  },
  {
   "cell_type": "code",
   "execution_count": 38,
   "id": "5a38a653-b9db-462e-bf27-d626c57558c9",
   "metadata": {},
   "outputs": [
    {
     "data": {
      "text/plain": [
       "'yaseratalay'"
      ]
     },
     "execution_count": 38,
     "metadata": {},
     "output_type": "execute_result"
    }
   ],
   "source": [
    "isim"
   ]
  },
  {
   "cell_type": "code",
   "execution_count": 39,
   "id": "d1dde077-7e7c-4ee7-a177-cb44726d18f0",
   "metadata": {},
   "outputs": [
    {
     "data": {
      "text/plain": [
       "'y'"
      ]
     },
     "execution_count": 39,
     "metadata": {},
     "output_type": "execute_result"
    }
   ],
   "source": [
    "isim[0]"
   ]
  },
  {
   "cell_type": "code",
   "execution_count": 40,
   "id": "1b184b2a-45c3-484d-a81b-9ba1442e9556",
   "metadata": {},
   "outputs": [
    {
     "data": {
      "text/plain": [
       "'yas'"
      ]
     },
     "execution_count": 40,
     "metadata": {},
     "output_type": "execute_result"
    }
   ],
   "source": [
    "isim[0:3]"
   ]
  },
  {
   "cell_type": "code",
   "execution_count": 41,
   "id": "19ff3e0b-7956-447c-a416-03579791e78d",
   "metadata": {},
   "outputs": [
    {
     "data": {
      "text/plain": [
       "6"
      ]
     },
     "execution_count": 41,
     "metadata": {},
     "output_type": "execute_result"
    }
   ],
   "source": [
    "isim.index(\"t\")"
   ]
  },
  {
   "cell_type": "code",
   "execution_count": 42,
   "id": "5f415a7c-2f1d-4ab9-85ce-15521485f17a",
   "metadata": {},
   "outputs": [
    {
     "data": {
      "text/plain": [
       "1"
      ]
     },
     "execution_count": 42,
     "metadata": {},
     "output_type": "execute_result"
    }
   ],
   "source": [
    "isim.index(\"a\")"
   ]
  },
  {
   "cell_type": "code",
   "execution_count": 45,
   "id": "d9b34be1-fdce-4890-a84d-b71a62bad738",
   "metadata": {},
   "outputs": [
    {
     "data": {
      "text/plain": [
       "5"
      ]
     },
     "execution_count": 45,
     "metadata": {},
     "output_type": "execute_result"
    }
   ],
   "source": [
    "isim.index(\"a\",2)"
   ]
  },
  {
   "cell_type": "markdown",
   "id": "3d7a6b73-8d14-481d-bc04-31fb2b6ef3ce",
   "metadata": {},
   "source": [
    "## Başlangıç ve Bitiş Karekterlerini Sorgulamak: startswith() & endswith()"
   ]
  },
  {
   "cell_type": "code",
   "execution_count": 48,
   "id": "4290bad1-85c2-4237-94de-30055b0ff69e",
   "metadata": {},
   "outputs": [],
   "source": [
    "isim = \"Yaser Atalay\""
   ]
  },
  {
   "cell_type": "code",
   "execution_count": 50,
   "id": "94902754-e29f-42d3-a69f-dc8b1dc753e1",
   "metadata": {},
   "outputs": [
    {
     "data": {
      "text/plain": [
       "False"
      ]
     },
     "execution_count": 50,
     "metadata": {},
     "output_type": "execute_result"
    }
   ],
   "source": [
    "isim.startswith(\"a\")"
   ]
  },
  {
   "cell_type": "code",
   "execution_count": 51,
   "id": "58444dbd-5f2a-4c1a-aa15-b74d7d8b5831",
   "metadata": {},
   "outputs": [
    {
     "data": {
      "text/plain": [
       "False"
      ]
     },
     "execution_count": 51,
     "metadata": {},
     "output_type": "execute_result"
    }
   ],
   "source": [
    "isim.startswith(\"y\")"
   ]
  },
  {
   "cell_type": "code",
   "execution_count": 52,
   "id": "ba59dacf-49cd-416e-8fb7-dde4dff202a8",
   "metadata": {},
   "outputs": [
    {
     "data": {
      "text/plain": [
       "True"
      ]
     },
     "execution_count": 52,
     "metadata": {},
     "output_type": "execute_result"
    }
   ],
   "source": [
    "isim.startswith(\"Y\")"
   ]
  },
  {
   "cell_type": "code",
   "execution_count": 53,
   "id": "ec2b50ab-daee-4cca-b371-f8cce194c424",
   "metadata": {},
   "outputs": [
    {
     "data": {
      "text/plain": [
       "False"
      ]
     },
     "execution_count": 53,
     "metadata": {},
     "output_type": "execute_result"
    }
   ],
   "source": [
    "isim.endswith(\"b\")"
   ]
  },
  {
   "cell_type": "code",
   "execution_count": 55,
   "id": "58634284-a089-4e9a-b78b-686b1e431862",
   "metadata": {},
   "outputs": [
    {
     "data": {
      "text/plain": [
       "True"
      ]
     },
     "execution_count": 55,
     "metadata": {},
     "output_type": "execute_result"
    }
   ],
   "source": [
    "isim.endswith(\"y\")"
   ]
  },
  {
   "cell_type": "markdown",
   "id": "d8d1602d-f0db-4f41-88d3-0996d397c612",
   "metadata": {
    "tags": []
   },
   "source": [
    "## Count"
   ]
  },
  {
   "cell_type": "code",
   "execution_count": 58,
   "id": "a913f65e-6b41-4f56-8c38-dffbee24dc61",
   "metadata": {},
   "outputs": [
    {
     "data": {
      "text/plain": [
       "3"
      ]
     },
     "execution_count": 58,
     "metadata": {},
     "output_type": "execute_result"
    }
   ],
   "source": [
    "isim.count(\"a\")"
   ]
  },
  {
   "cell_type": "markdown",
   "id": "7c7426db-6000-4c30-a089-ed8609ea21ce",
   "metadata": {},
   "source": [
    "## Sorted"
   ]
  },
  {
   "cell_type": "code",
   "execution_count": 59,
   "id": "e46b9ad5-06b5-4f04-8fb4-523aba313f10",
   "metadata": {},
   "outputs": [
    {
     "data": {
      "text/plain": [
       "['d', 'e', 'e', 'f', 'r', 't']"
      ]
     },
     "execution_count": 59,
     "metadata": {},
     "output_type": "execute_result"
    }
   ],
   "source": [
    "sorted(\"defter\")"
   ]
  },
  {
   "cell_type": "code",
   "execution_count": 60,
   "id": "828e8c3a-d416-4ee6-a4e1-9436736f8ecc",
   "metadata": {},
   "outputs": [
    {
     "name": "stdout",
     "output_type": "stream",
     "text": [
      "deefrt\n"
     ]
    }
   ],
   "source": [
    "print(*sorted(\"defter\"), sep = \"\")"
   ]
  },
  {
   "cell_type": "markdown",
   "id": "30158909-f0e9-402a-b92b-5d373afc22a7",
   "metadata": {},
   "source": [
    "## Karekterleri Bölmek"
   ]
  },
  {
   "cell_type": "code",
   "execution_count": 66,
   "id": "294172ec-6d5b-4fa6-aa33-631b4f5031b2",
   "metadata": {},
   "outputs": [],
   "source": [
    "isim = \"Yaser Atalay\""
   ]
  },
  {
   "cell_type": "code",
   "execution_count": 67,
   "id": "94ebf8ee-6e35-4503-b8da-811618deddbf",
   "metadata": {},
   "outputs": [
    {
     "data": {
      "text/plain": [
       "['Yaser', 'Atalay']"
      ]
     },
     "execution_count": 67,
     "metadata": {},
     "output_type": "execute_result"
    }
   ],
   "source": [
    "isim.split()"
   ]
  },
  {
   "cell_type": "code",
   "execution_count": 68,
   "id": "0d6d7f1e-eb5f-44a6-8349-1da82e77177d",
   "metadata": {},
   "outputs": [
    {
     "data": {
      "text/plain": [
       "['Y', 'ser At', 'l', 'y']"
      ]
     },
     "execution_count": 68,
     "metadata": {},
     "output_type": "execute_result"
    }
   ],
   "source": [
    "isim.split(\"a\")"
   ]
  },
  {
   "cell_type": "code",
   "execution_count": null,
   "id": "0200eb73-ea28-4185-9ebe-b65b9d5d3eaf",
   "metadata": {},
   "outputs": [],
   "source": [
    "isim = \"Yaser_Atalay\""
   ]
  },
  {
   "cell_type": "code",
   "execution_count": 65,
   "id": "e0023998-826b-402c-bd7b-74b358e63c5f",
   "metadata": {},
   "outputs": [
    {
     "data": {
      "text/plain": [
       "['Yaser Atalay']"
      ]
     },
     "execution_count": 65,
     "metadata": {},
     "output_type": "execute_result"
    }
   ],
   "source": [
    "isim.split(\"_\")"
   ]
  },
  {
   "cell_type": "markdown",
   "id": "f4f25605-86b1-4fc9-b5d2-75e1a40926e0",
   "metadata": {},
   "source": [
    "## Büyük Harf Küçük Harf İşlemleri"
   ]
  },
  {
   "cell_type": "code",
   "execution_count": 69,
   "id": "e46179b6-9d11-4f20-a5cd-45a2c84b7b35",
   "metadata": {},
   "outputs": [
    {
     "data": {
      "text/plain": [
       "'YASER ATALAY'"
      ]
     },
     "execution_count": 69,
     "metadata": {},
     "output_type": "execute_result"
    }
   ],
   "source": [
    "isim.upper()"
   ]
  },
  {
   "cell_type": "code",
   "execution_count": 71,
   "id": "5894cd9d-0d42-435f-a4e3-16efcac8a5e2",
   "metadata": {},
   "outputs": [
    {
     "data": {
      "text/plain": [
       "'yaser atalay'"
      ]
     },
     "execution_count": 71,
     "metadata": {},
     "output_type": "execute_result"
    }
   ],
   "source": [
    "isim.lower()"
   ]
  },
  {
   "cell_type": "code",
   "execution_count": 72,
   "id": "8588c242-e753-47e4-a1e0-8990dc2ea6bb",
   "metadata": {},
   "outputs": [],
   "source": [
    "isim_b = isim.upper()"
   ]
  },
  {
   "cell_type": "code",
   "execution_count": 73,
   "id": "2fb0a28b-ccb0-48c5-a515-c060f732312f",
   "metadata": {},
   "outputs": [
    {
     "data": {
      "text/plain": [
       "False"
      ]
     },
     "execution_count": 73,
     "metadata": {},
     "output_type": "execute_result"
    }
   ],
   "source": [
    "isim_b.islower()"
   ]
  },
  {
   "cell_type": "code",
   "execution_count": 74,
   "id": "5ebecd59-31f1-4b7d-839c-fbcddd284cc1",
   "metadata": {},
   "outputs": [
    {
     "data": {
      "text/plain": [
       "True"
      ]
     },
     "execution_count": 74,
     "metadata": {},
     "output_type": "execute_result"
    }
   ],
   "source": [
    "isim_b.isupper()"
   ]
  },
  {
   "cell_type": "markdown",
   "id": "7cbe57c7-ebe9-4a72-9fc0-3aa4b98b828e",
   "metadata": {},
   "source": [
    "## capitalize() & title() & swapcase()"
   ]
  },
  {
   "cell_type": "code",
   "execution_count": 75,
   "id": "837fba6c-a65f-469d-9ce9-23690a6365f0",
   "metadata": {},
   "outputs": [],
   "source": [
    "isim = \"yaser atalay\""
   ]
  },
  {
   "cell_type": "code",
   "execution_count": 76,
   "id": "a1e7a7d8-e767-4c54-a284-9aaef7da5769",
   "metadata": {},
   "outputs": [
    {
     "data": {
      "text/plain": [
       "'Yaser atalay'"
      ]
     },
     "execution_count": 76,
     "metadata": {},
     "output_type": "execute_result"
    }
   ],
   "source": [
    "isim.capitalize()"
   ]
  },
  {
   "cell_type": "code",
   "execution_count": 77,
   "id": "4d504200-e2af-4be0-9d21-4b74671f7567",
   "metadata": {},
   "outputs": [
    {
     "data": {
      "text/plain": [
       "'Yaser Atalay'"
      ]
     },
     "execution_count": 77,
     "metadata": {},
     "output_type": "execute_result"
    }
   ],
   "source": [
    "isim.title()"
   ]
  },
  {
   "cell_type": "code",
   "execution_count": 78,
   "id": "f2ec1bca-2a16-47e2-8c96-a2444dd64645",
   "metadata": {},
   "outputs": [],
   "source": [
    "isim = \"YASER atalay\""
   ]
  },
  {
   "cell_type": "code",
   "execution_count": 79,
   "id": "da281884-cb59-42e2-81ea-89f90282b1dd",
   "metadata": {},
   "outputs": [
    {
     "data": {
      "text/plain": [
       "'yaser ATALAY'"
      ]
     },
     "execution_count": 79,
     "metadata": {},
     "output_type": "execute_result"
    }
   ],
   "source": [
    "isim.swapcase()"
   ]
  },
  {
   "cell_type": "markdown",
   "id": "9d2fd67b-331e-4362-b255-38edea716e3f",
   "metadata": {},
   "source": [
    "## İstenmeyen karakterleri Kırpmak: strip(), lstrip(), rstrip()"
   ]
  },
  {
   "cell_type": "code",
   "execution_count": 81,
   "id": "edbf5bd0-c7aa-4411-868c-f27d6cbe22f3",
   "metadata": {},
   "outputs": [],
   "source": [
    "isim = \"    Yaser Atalay    \""
   ]
  },
  {
   "cell_type": "code",
   "execution_count": 83,
   "id": "cdc33cb5-c59e-4491-bc5e-7bfa42d4726e",
   "metadata": {},
   "outputs": [
    {
     "data": {
      "text/plain": [
       "'Yaser Atalay'"
      ]
     },
     "execution_count": 83,
     "metadata": {},
     "output_type": "execute_result"
    }
   ],
   "source": [
    "isim.strip()"
   ]
  },
  {
   "cell_type": "code",
   "execution_count": 84,
   "id": "dfd5e11d-29b5-4959-8d05-9625b70784ef",
   "metadata": {},
   "outputs": [],
   "source": [
    "isim = \"***Yaser Atalay***\""
   ]
  },
  {
   "cell_type": "code",
   "execution_count": 85,
   "id": "23df6b50-c62a-4e9e-9168-9b165f9a72dc",
   "metadata": {},
   "outputs": [
    {
     "data": {
      "text/plain": [
       "'Yaser Atalay'"
      ]
     },
     "execution_count": 85,
     "metadata": {},
     "output_type": "execute_result"
    }
   ],
   "source": [
    "isim.strip(\"*\")"
   ]
  },
  {
   "cell_type": "code",
   "execution_count": 86,
   "id": "8e4551e2-c70a-4047-8632-2f65cc188497",
   "metadata": {},
   "outputs": [],
   "source": [
    "isim = \"bbbYaser Atalaybbb\""
   ]
  },
  {
   "cell_type": "code",
   "execution_count": 87,
   "id": "e360365f-cd1d-434e-b874-b26e243b709e",
   "metadata": {},
   "outputs": [
    {
     "data": {
      "text/plain": [
       "'Yaser Atalay'"
      ]
     },
     "execution_count": 87,
     "metadata": {},
     "output_type": "execute_result"
    }
   ],
   "source": [
    "isim.strip(\"b\")"
   ]
  },
  {
   "cell_type": "code",
   "execution_count": 88,
   "id": "0a5125dd-5bea-4175-a891-1c793a7a5368",
   "metadata": {},
   "outputs": [],
   "source": [
    "isim = \"***Yaser Atalay***\""
   ]
  },
  {
   "cell_type": "code",
   "execution_count": 89,
   "id": "106c8416-78f9-49f6-8cec-dbc92f8567a5",
   "metadata": {},
   "outputs": [
    {
     "data": {
      "text/plain": [
       "'***Yaser Atalay'"
      ]
     },
     "execution_count": 89,
     "metadata": {},
     "output_type": "execute_result"
    }
   ],
   "source": [
    "isim.rstrip(\"*\")"
   ]
  },
  {
   "cell_type": "code",
   "execution_count": 90,
   "id": "be99c671-a9bb-4d9e-8746-efe38716f684",
   "metadata": {},
   "outputs": [
    {
     "data": {
      "text/plain": [
       "'Yaser Atalay***'"
      ]
     },
     "execution_count": 90,
     "metadata": {},
     "output_type": "execute_result"
    }
   ],
   "source": [
    "isim.lstrip(\"*\")"
   ]
  },
  {
   "cell_type": "markdown",
   "id": "af60f962-7820-4b64-be4d-10a06db1d6a3",
   "metadata": {},
   "source": [
    "## Join: Bölünmüş ya da Zaten Bölük Olan İfadelerin Birleştirilmesi "
   ]
  },
  {
   "cell_type": "code",
   "execution_count": 91,
   "id": "b6f3d250-f212-4b52-b0be-a3e3567c2002",
   "metadata": {},
   "outputs": [],
   "source": [
    "isim = \"Yaser Atalay\""
   ]
  },
  {
   "cell_type": "code",
   "execution_count": 92,
   "id": "4677590a-14b3-4dff-8444-59b08d9ccb21",
   "metadata": {},
   "outputs": [],
   "source": [
    "ayrik = isim.split()"
   ]
  },
  {
   "cell_type": "code",
   "execution_count": 93,
   "id": "39c445bd-8b99-4920-b924-d941905ea741",
   "metadata": {},
   "outputs": [
    {
     "data": {
      "text/plain": [
       "['Yaser', 'Atalay']"
      ]
     },
     "execution_count": 93,
     "metadata": {},
     "output_type": "execute_result"
    }
   ],
   "source": [
    "ayrik"
   ]
  },
  {
   "cell_type": "code",
   "execution_count": 96,
   "id": "a6995d0f-0e45-4f97-bcc7-9ac959caa2c6",
   "metadata": {},
   "outputs": [],
   "source": [
    "joiner = \" \""
   ]
  },
  {
   "cell_type": "code",
   "execution_count": 97,
   "id": "f7b42039-c0a1-42b0-8b47-230778f6797b",
   "metadata": {},
   "outputs": [
    {
     "data": {
      "text/plain": [
       "'Yaser Atalay'"
      ]
     },
     "execution_count": 97,
     "metadata": {},
     "output_type": "execute_result"
    }
   ],
   "source": [
    "joiner.join(ayrik)"
   ]
  },
  {
   "cell_type": "code",
   "execution_count": 98,
   "id": "3cf3954d-077d-4b4c-aad5-8f543fe820e2",
   "metadata": {},
   "outputs": [],
   "source": [
    "joiner = \"---\""
   ]
  },
  {
   "cell_type": "code",
   "execution_count": 99,
   "id": "17bf62d6-0ff2-402f-8159-6537ea74a8c9",
   "metadata": {},
   "outputs": [
    {
     "data": {
      "text/plain": [
       "'Yaser---Atalay'"
      ]
     },
     "execution_count": 99,
     "metadata": {},
     "output_type": "execute_result"
    }
   ],
   "source": [
    "joiner.join(ayrik)"
   ]
  },
  {
   "cell_type": "markdown",
   "id": "88710b3f-2b57-46ae-9a83-d665e2c57f88",
   "metadata": {},
   "source": [
    "## Eleman Değiştirme: replace(), str.maketrans(), translate()"
   ]
  },
  {
   "cell_type": "code",
   "execution_count": 100,
   "id": "61159119-56e7-443a-8ba0-344f3b9475a4",
   "metadata": {},
   "outputs": [
    {
     "data": {
      "text/plain": [
       "'Yaser Atalay'"
      ]
     },
     "execution_count": 100,
     "metadata": {},
     "output_type": "execute_result"
    }
   ],
   "source": [
    "isim"
   ]
  },
  {
   "cell_type": "code",
   "execution_count": 101,
   "id": "dc0522b7-3953-4f49-8369-ea0f52edf28f",
   "metadata": {},
   "outputs": [
    {
     "data": {
      "text/plain": [
       "'Yaser Stalay'"
      ]
     },
     "execution_count": 101,
     "metadata": {},
     "output_type": "execute_result"
    }
   ],
   "source": [
    "isim.replace(\"A\",\"S\")"
   ]
  },
  {
   "cell_type": "code",
   "execution_count": 102,
   "id": "c1c71a53-78ed-4fa4-bbea-336174edcb85",
   "metadata": {},
   "outputs": [
    {
     "data": {
      "text/plain": [
       "'Yaser Barış'"
      ]
     },
     "execution_count": 102,
     "metadata": {},
     "output_type": "execute_result"
    }
   ],
   "source": [
    "isim.replace(\"Atalay\",\"Barış\")"
   ]
  },
  {
   "cell_type": "code",
   "execution_count": 103,
   "id": "03273462-8c24-4aa6-affb-7feb74ecba8c",
   "metadata": {},
   "outputs": [
    {
     "data": {
      "text/plain": [
       "'Baser Atalay'"
      ]
     },
     "execution_count": 103,
     "metadata": {},
     "output_type": "execute_result"
    }
   ],
   "source": [
    "isim.replace(\"Ya\",\"Ba\")"
   ]
  },
  {
   "cell_type": "code",
   "execution_count": 104,
   "id": "d2700a45-cfa9-414d-968f-cd76b8fe7753",
   "metadata": {},
   "outputs": [],
   "source": [
    "ifade = \"Bu ifade içerisinde bağzı Türkçe karakterler vardır\""
   ]
  },
  {
   "cell_type": "code",
   "execution_count": 105,
   "id": "35916789-2de3-4920-ad56-ca102fa1e74e",
   "metadata": {},
   "outputs": [],
   "source": [
    "düzeltilecek_harfler = \"ÇçğĞıİöÖüÜşŞ\"\n",
    "düzeltilmiş_harfler = \"CcgGiIoOuUsS\""
   ]
  },
  {
   "cell_type": "code",
   "execution_count": 106,
   "id": "8174c2df-8282-4f31-8b11-311a92c07b9e",
   "metadata": {},
   "outputs": [],
   "source": [
    "alfabe_duzeltme = str.maketrans(düzeltilecek_harfler,düzeltilmiş_harfler)"
   ]
  },
  {
   "cell_type": "code",
   "execution_count": 108,
   "id": "4984580e-fa98-4cd2-831d-2538dc043705",
   "metadata": {},
   "outputs": [
    {
     "data": {
      "text/plain": [
       "'Bu ifade icerisinde bagzi Turkce karakterler vardir'"
      ]
     },
     "execution_count": 108,
     "metadata": {},
     "output_type": "execute_result"
    }
   ],
   "source": [
    "ifade.translate(alfabe_duzeltme)"
   ]
  },
  {
   "cell_type": "markdown",
   "id": "8424fbaf-dadd-413c-a69d-7a32dbd98040",
   "metadata": {},
   "source": [
    "## contains"
   ]
  },
  {
   "cell_type": "code",
   "execution_count": 115,
   "id": "20e29561-05e4-47d5-86d5-cdc1f4a33c51",
   "metadata": {},
   "outputs": [],
   "source": [
    "isimler = [\"Yaser\",\"yaser\",\"Süleyman\",\"süleyman\",\"Gizem\",\"gizem\",\"Ali\",\"aali\",\"ali\",\"Furkan\",\"furkan\"]"
   ]
  },
  {
   "cell_type": "code",
   "execution_count": 116,
   "id": "706368b1-8521-4c90-a9c9-d0575b7fe407",
   "metadata": {},
   "outputs": [],
   "source": [
    "import pandas as pd"
   ]
  },
  {
   "cell_type": "code",
   "execution_count": 117,
   "id": "d2b35122-6fa5-4e71-8058-2c2bc25976f1",
   "metadata": {},
   "outputs": [],
   "source": [
    "v = pd.Series(isimler)"
   ]
  },
  {
   "cell_type": "code",
   "execution_count": 118,
   "id": "4b9babf5-9c41-46a8-a983-735b24658d42",
   "metadata": {},
   "outputs": [
    {
     "data": {
      "text/plain": [
       "0        Yaser\n",
       "1        yaser\n",
       "2     Süleyman\n",
       "3     süleyman\n",
       "4        Gizem\n",
       "5        gizem\n",
       "6          Ali\n",
       "7         aali\n",
       "8          ali\n",
       "9       Furkan\n",
       "10      furkan\n",
       "dtype: object"
      ]
     },
     "execution_count": 118,
     "metadata": {},
     "output_type": "execute_result"
    }
   ],
   "source": [
    "v"
   ]
  },
  {
   "cell_type": "code",
   "execution_count": 119,
   "id": "bb92fb76-b41a-4f19-8041-c223e3af163c",
   "metadata": {},
   "outputs": [
    {
     "data": {
      "text/plain": [
       "0     False\n",
       "1     False\n",
       "2     False\n",
       "3     False\n",
       "4     False\n",
       "5     False\n",
       "6     False\n",
       "7      True\n",
       "8      True\n",
       "9     False\n",
       "10    False\n",
       "dtype: bool"
      ]
     },
     "execution_count": 119,
     "metadata": {},
     "output_type": "execute_result"
    }
   ],
   "source": [
    "v.str.contains(\"al\")"
   ]
  },
  {
   "cell_type": "code",
   "execution_count": 120,
   "id": "0bfbd63f-6f5d-43f9-9eb6-73ff41e07729",
   "metadata": {},
   "outputs": [
    {
     "data": {
      "text/plain": [
       "7    aali\n",
       "8     ali\n",
       "dtype: object"
      ]
     },
     "execution_count": 120,
     "metadata": {},
     "output_type": "execute_result"
    }
   ],
   "source": [
    "v[v.str.contains(\"al\")]"
   ]
  },
  {
   "cell_type": "code",
   "execution_count": 125,
   "id": "dcfa3c19-89fe-4aea-b523-bc295bda58ac",
   "metadata": {},
   "outputs": [
    {
     "data": {
      "text/plain": [
       "2"
      ]
     },
     "execution_count": 125,
     "metadata": {},
     "output_type": "execute_result"
    }
   ],
   "source": [
    "v.str.contains(\"al\").sum()"
   ]
  },
  {
   "cell_type": "code",
   "execution_count": 127,
   "id": "fc7cd039-d937-4561-b1b8-8bf39ce278e1",
   "metadata": {},
   "outputs": [
    {
     "data": {
      "text/plain": [
       "0     False\n",
       "1     False\n",
       "2     False\n",
       "3     False\n",
       "4     False\n",
       "5     False\n",
       "6      True\n",
       "7      True\n",
       "8      True\n",
       "9     False\n",
       "10    False\n",
       "dtype: bool"
      ]
     },
     "execution_count": 127,
     "metadata": {},
     "output_type": "execute_result"
    }
   ],
   "source": [
    "v.str.contains(\"[aA]l\")"
   ]
  },
  {
   "cell_type": "code",
   "execution_count": 129,
   "id": "01d52a1d-9125-416c-bae6-0556ec8d4161",
   "metadata": {},
   "outputs": [
    {
     "data": {
      "text/plain": [
       "6     Ali\n",
       "7    aali\n",
       "8     ali\n",
       "dtype: object"
      ]
     },
     "execution_count": 129,
     "metadata": {},
     "output_type": "execute_result"
    }
   ],
   "source": [
    "v[v.str.contains(\"[aA]l\")]"
   ]
  },
  {
   "cell_type": "code",
   "execution_count": 126,
   "id": "86a572cc-31ad-4b81-bb6e-8609d6554ba9",
   "metadata": {},
   "outputs": [
    {
     "data": {
      "text/plain": [
       "3"
      ]
     },
     "execution_count": 126,
     "metadata": {},
     "output_type": "execute_result"
    }
   ],
   "source": [
    "v.str.contains(\"[aA]l\").sum()"
   ]
  },
  {
   "cell_type": "code",
   "execution_count": null,
   "id": "610a096f-1832-499c-9d7b-e4dd72576d35",
   "metadata": {},
   "outputs": [],
   "source": []
  }
 ],
 "metadata": {
  "kernelspec": {
   "display_name": "Python 3 (ipykernel)",
   "language": "python",
   "name": "python3"
  },
  "language_info": {
   "codemirror_mode": {
    "name": "ipython",
    "version": 3
   },
   "file_extension": ".py",
   "mimetype": "text/x-python",
   "name": "python",
   "nbconvert_exporter": "python",
   "pygments_lexer": "ipython3",
   "version": "3.9.13"
  }
 },
 "nbformat": 4,
 "nbformat_minor": 5
}
